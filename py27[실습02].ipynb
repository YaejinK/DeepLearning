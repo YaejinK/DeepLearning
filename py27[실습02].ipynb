{
 "cells": [
  {
   "cell_type": "markdown",
   "id": "flush-evening",
   "metadata": {},
   "source": [
    "## 실습02 201910938 김예진"
   ]
  },
  {
   "cell_type": "markdown",
   "id": "incomplete-addiction",
   "metadata": {},
   "source": [
    "## MNIST를 2 hidden layer 퍼셉트론으로 학습하기"
   ]
  },
  {
   "cell_type": "code",
   "execution_count": 1,
   "id": "unavailable-harmony",
   "metadata": {},
   "outputs": [],
   "source": [
    "import torch\n",
    "import torch.nn as nn\n",
    "import torch.optim as optim\n",
    "import torchvision.datasets as dset\n",
    "import torchvision.transforms as transforms\n",
    "from torch.utils.data import DataLoader\n",
    "from torch.autograd import Variable\n",
    "import matplotlib.pyplot as plt\n",
    "%matplotlib inline\n",
    "import numpy as np\n",
    "import ipywidgets as widgets\n",
    "from ipywidgets import Layout,Box\n",
    "from IPython.display import display\n",
    "import time"
   ]
  },
  {
   "cell_type": "markdown",
   "id": "marked-genesis",
   "metadata": {},
   "source": [
    "### 1. MNIST train, test dataset 가져오기"
   ]
  },
  {
   "cell_type": "code",
   "execution_count": 2,
   "id": "fiscal-tennessee",
   "metadata": {},
   "outputs": [],
   "source": [
    "# \"\": 현재 폴더에 MNIST 있음\n",
    "mnist_train=dset.MNIST(\"\", train=True, transform=transforms.ToTensor(),\n",
    "                      target_transform=None, download=True) #train용으로 쓰겠다\n",
    "mnist_test=dset.MNIST(\"\", train=False, transform=transforms.ToTensor(),\n",
    "                     target_transform=None, download=True) #Test용으로 쓰겠다."
   ]
  },
  {
   "cell_type": "markdown",
   "id": "thorough-forestry",
   "metadata": {},
   "source": [
    "### 2. 대략적인 데이터 형태"
   ]
  },
  {
   "cell_type": "code",
   "execution_count": 3,
   "id": "faced-projection",
   "metadata": {},
   "outputs": [
    {
     "name": "stdout",
     "output_type": "stream",
     "text": [
      "mnist_train 길이: 60000\n",
      "mnist_test 길이: 10000\n",
      "image data 형태: torch.Size([1, 28, 28])\n",
      "label:  5\n"
     ]
    },
    {
     "data": {
      "image/png": "[encoded data removed]",
      "text/plain": [
       "<Figure size 432x288 with 1 Axes>"
      ]
     },
     "metadata": {
      "needs_background": "light"
     },
     "output_type": "display_data"
    }
   ],
   "source": [
    "print \"mnist_train 길이:\", len(mnist_train)\n",
    "print \"mnist_test 길이:\", len(mnist_test)\n",
    "\n",
    "#데이터 하나 형태\n",
    "image, label=mnist_train.__getitem__(0) #0번째 데이터\n",
    "print \"image data 형태:\", image.size()\n",
    "print \"label: \", label\n",
    "\n",
    "#그리기\n",
    "img=image.numpy() #imgae 타입을 numpy로 변환 (1, 28,28)\n",
    "plt.title(\"label: %d\" %label)\n",
    "plt.imshow(img[0], cmap='gray')\n",
    "plt.show()"
   ]
  },
  {
   "cell_type": "markdown",
   "id": "prescription-guatemala",
   "metadata": {},
   "source": [
    "### 3. 데이터 로드함수"
   ]
  },
  {
   "cell_type": "code",
   "execution_count": 4,
   "id": "public-chocolate",
   "metadata": {},
   "outputs": [],
   "source": [
    "# hyper parameters\n",
    "batch_size=1024\n",
    "learning_rate=0.01\n",
    "num_epoch=400"
   ]
  },
  {
   "cell_type": "code",
   "execution_count": 5,
   "id": "controversial-dialogue",
   "metadata": {},
   "outputs": [],
   "source": [
    "train_loader=torch.utils.data.DataLoader(mnist_train,\n",
    "                                        batch_size=batch_size,\n",
    "                                        shuffle=True, num_workers=2,\n",
    "                                        drop_last=True)\n",
    "test_loader=torch.utils.data.DataLoader(mnist_test,\n",
    "                                        batch_size=batch_size,\n",
    "                                        shuffle=False, num_workers=2,\n",
    "                                        drop_last=True)"
   ]
  },
  {
   "cell_type": "markdown",
   "id": "intense-customs",
   "metadata": {},
   "source": [
    "### 데이터 로드함수 이해하기"
   ]
  },
  {
   "cell_type": "code",
   "execution_count": 6,
   "id": "southeast-funds",
   "metadata": {},
   "outputs": [
    {
     "name": "stdout",
     "output_type": "stream",
     "text": [
      "[0]\n",
      "한 번에 로드되는 데이터 크기 1024\n"
     ]
    },
    {
     "data": {
      "image/png": "[encoded data removed]",
      "text/plain": [
       "<Figure size 432x288 with 3 Axes>"
      ]
     },
     "metadata": {
      "needs_background": "light"
     },
     "output_type": "display_data"
    },
    {
     "name": "stdout",
     "output_type": "stream",
     "text": [
      "[1]\n",
      "한 번에 로드되는 데이터 크기 1024\n"
     ]
    },
    {
     "data": {
      "image/png": "[encoded data removed]",
      "text/plain": [
       "<Figure size 432x288 with 3 Axes>"
      ]
     },
     "metadata": {
      "needs_background": "light"
     },
     "output_type": "display_data"
    },
    {
     "name": "stdout",
     "output_type": "stream",
     "text": [
      "[2]\n",
      "한 번에 로드되는 데이터 크기 1024\n"
     ]
    },
    {
     "data": {
      "image/png": "[encoded data removed]",
      "text/plain": [
       "<Figure size 432x288 with 3 Axes>"
      ]
     },
     "metadata": {
      "needs_background": "light"
     },
     "output_type": "display_data"
    },
    {
     "name": "stdout",
     "output_type": "stream",
     "text": [
      "[3]\n",
      "한 번에 로드되는 데이터 크기 1024\n"
     ]
    },
    {
     "data": {
      "image/png": "[encoded data removed]",
      "text/plain": [
       "<Figure size 432x288 with 3 Axes>"
      ]
     },
     "metadata": {
      "needs_background": "light"
     },
     "output_type": "display_data"
    },
    {
     "name": "stdout",
     "output_type": "stream",
     "text": [
      "[4]\n",
      "한 번에 로드되는 데이터 크기 1024\n"
     ]
    },
    {
     "data": {
      "image/png": "[encoded data removed]",
      "text/plain": [
       "<Figure size 432x288 with 3 Axes>"
      ]
     },
     "metadata": {
      "needs_background": "light"
     },
     "output_type": "display_data"
    },
    {
     "name": "stdout",
     "output_type": "stream",
     "text": [
      "[5]\n",
      "한 번에 로드되는 데이터 크기 1024\n"
     ]
    },
    {
     "data": {
      "image/png": "[encoded data removed]",
      "text/plain": [
       "<Figure size 432x288 with 3 Axes>"
      ]
     },
     "metadata": {
      "needs_background": "light"
     },
     "output_type": "display_data"
    }
   ],
   "source": [
    "n=3 #샘플로 그려볼 데이터 개수\n",
    "for i, [imgs, labels] in enumerate(test_loader): #batchsize만큼\n",
    "    if i>5:\n",
    "        break\n",
    "        \n",
    "    print \"[%d]\" %i\n",
    "    print \"한 번에 로드되는 데이터 크기\", len(imgs)\n",
    "    \n",
    "    #그리기\n",
    "    for j in range(n):\n",
    "        img=imgs[i].numpy() #imgae타입을 numpy로 변환(1,28,28)\n",
    "        img=img.reshape((img.shape[1], img.shape[2])) #(1,28,28)->(28,28)\n",
    "        #print img.shape\n",
    "        \n",
    "        plt.subplot(1,n,j+1) #(1,3) 형태 플랏의 j번째 자리에 그리겠다\n",
    "        plt.imshow(img, cmap='gray')\n",
    "        plt.title(\"lable: %d\" %labels[j])\n",
    "    plt.show()"
   ]
  },
  {
   "cell_type": "markdown",
   "id": "stainless-wagner",
   "metadata": {},
   "source": [
    "### 4. 모델선언"
   ]
  },
  {
   "cell_type": "code",
   "execution_count": 7,
   "id": "horizontal-silicon",
   "metadata": {},
   "outputs": [],
   "source": [
    "#모델선언\n",
    "# * 퍼셉트론(2 hidden layer) *\n",
    "model=nn.Sequential(   #28*28 - 256 - 128 - 10\n",
    "    nn.Linear(28*28,256),\n",
    "    nn.Sigmoid(), #nn.ReLu(),   #nn.Sigmoid()\n",
    "    nn.Linear(256,128),\n",
    "    nn.Linear(128,10),\n",
    ")\n",
    "# 파라미터 보기\n",
    "# print(list(model.parameters())) #초기 파라미터 출력\n",
    "\n",
    "#model=model.cuba()  #***GPU 가속***"
   ]
  },
  {
   "cell_type": "code",
   "execution_count": 8,
   "id": "uniform-gospel",
   "metadata": {},
   "outputs": [],
   "source": [
    "def ComputeAccr(dloader, imodel):\n",
    "    correct=0\n",
    "    total=0\n",
    "    \n",
    "    for j, [imgs, labels] in enumerate(dloader): #batch_size만큼\n",
    "        img=imgs #x\n",
    "        label=Variable(labels) #y\n",
    "        #label=Variable(labels).cuba()\n",
    "        #.cuba(): GPU에 로드되기 위함. CPU로 설정되있으면 에러\n",
    "        \n",
    "        #(batch_size,1,28,28)->(batch_size,28,28)\n",
    "        img=img.reshape((img.shape[0], img.shape[2], img.shape[3]))\n",
    "        #(batch_size,28,28)->(batch_size,28*28)\n",
    "        img=img.reshape((img.shape[0], img.shape[1]*img.shape[2]))\n",
    "        img=Variable(img, requires_grad=False) # False for Forward Propogation\n",
    "        #.cuba()\n",
    "        \n",
    "        output=imodel(img) #forword prop.\n",
    "        _, output_index=torch.max(output,1)\n",
    "        \n",
    "        total+=label.size(0)\n",
    "        correct+=(output_index==label).sum().float()\n",
    "    print(\"Accuracy of Test Data: {}\". format(100*correct/total))"
   ]
  },
  {
   "cell_type": "code",
   "execution_count": 9,
   "id": "pressing-motor",
   "metadata": {},
   "outputs": [
    {
     "name": "stdout",
     "output_type": "stream",
     "text": [
      "Accuracy of Test Data: 11.2955732346\n"
     ]
    }
   ],
   "source": [
    "ComputeAccr(test_loader,model)"
   ]
  },
  {
   "cell_type": "markdown",
   "id": "motivated-crown",
   "metadata": {},
   "source": [
    "### 5. loss, optimizer"
   ]
  },
  {
   "cell_type": "code",
   "execution_count": 10,
   "id": "internal-baker",
   "metadata": {},
   "outputs": [],
   "source": [
    "loss_func=nn.CrossEntropyLoss()\n",
    "optimizer=optim.SGD(model.parameters(), lr=learning_rate)"
   ]
  },
  {
   "cell_type": "markdown",
   "id": "oriented-topic",
   "metadata": {},
   "source": [
    "### 6. 학습"
   ]
  },
  {
   "cell_type": "code",
   "execution_count": 11,
   "id": "owned-estate",
   "metadata": {},
   "outputs": [
    {
     "data": {
      "application/vnd.jupyter.widget-view+json": {
       "model_id": "1e12e57ad8ab4653b10314e1e8b4eeff",
       "version_major": 2,
       "version_minor": 0
      },
      "text/plain": [
       "IntProgress(value=0, description=u'epoch', max=400)"
      ]
     },
     "metadata": {},
     "output_type": "display_data"
    },
    {
     "name": "stdout",
     "output_type": "stream",
     "text": [
      "0..\n",
      "Accuracy of Test Data: 11.2955732346\n",
      "tensor(2.2939, grad_fn=<NllLossBackward>)\n",
      "50..\n",
      "Accuracy of Test Data: 78.8411483765\n",
      "tensor(0.7141, grad_fn=<NllLossBackward>)\n",
      "100..\n",
      "Accuracy of Test Data: 88.205291748\n",
      "tensor(0.4560, grad_fn=<NllLossBackward>)\n",
      "150..\n",
      "Accuracy of Test Data: 89.930557251\n",
      "tensor(0.3496, grad_fn=<NllLossBackward>)\n",
      "200..\n",
      "Accuracy of Test Data: 90.8203125\n",
      "tensor(0.3358, grad_fn=<NllLossBackward>)\n",
      "250..\n",
      "Accuracy of Test Data: 91.3736953735\n",
      "tensor(0.3459, grad_fn=<NllLossBackward>)\n",
      "300..\n",
      "Accuracy of Test Data: 91.6341171265\n",
      "tensor(0.3083, grad_fn=<NllLossBackward>)\n",
      "350..\n",
      "Accuracy of Test Data: 91.89453125\n",
      "tensor(0.2929, grad_fn=<NllLossBackward>)\n"
     ]
    }
   ],
   "source": [
    "epoch=widgets.IntProgress(min=0, max=num_epoch, description='epoch')\n",
    "display(epoch)\n",
    "\n",
    "for i in range(num_epoch):\n",
    "    \n",
    "    epoch.value+=1\n",
    "    \n",
    "    for j, [imgs, labels] in enumerate(train_loader): #batch_size만큼\n",
    "        img=imgs #(batch_size, 1,28,28)\n",
    "        label=Variable(labels) #(batch_size)\n",
    "        #label=Variable(labels).cuba()\n",
    "                \n",
    "        #(batch_size,1,28,28)->(batch_size,28,28)\n",
    "        img=img.reshape((img.shape[0], img.shape[2], img.shape[3]))\n",
    "        #(batch_size,28,28)->(batch_size,28*28)\n",
    "        img=img.reshape((img.shape[0], img.shape[1]*img.shape[2]))\n",
    "        img=Variable(img, requires_grad=True) # True for Backward Propogation\n",
    "        \n",
    "        optimizer.zero_grad()\n",
    "        output=model(img) #forward prop.\n",
    "        loss=loss_func(output, label)\n",
    "        \n",
    "        loss.backward() #back prop.\n",
    "        optimizer.step() #weight 조정\n",
    "        \n",
    "    if i%50==0:\n",
    "        print(\"%d..\" %i)\n",
    "        ComputeAccr(test_loader, model)\n",
    "        print loss"
   ]
  },
  {
   "cell_type": "markdown",
   "id": "native-disco",
   "metadata": {},
   "source": [
    "### 7. 테스트"
   ]
  },
  {
   "cell_type": "code",
   "execution_count": 12,
   "id": "arbitrary-horror",
   "metadata": {},
   "outputs": [
    {
     "name": "stdout",
     "output_type": "stream",
     "text": [
      "Accuracy of Test Data: 92.111541748\n"
     ]
    }
   ],
   "source": [
    "ComputeAccr(test_loader, model)"
   ]
  },
  {
   "cell_type": "markdown",
   "id": "worst-consciousness",
   "metadata": {},
   "source": [
    "### 8. 학습된 파라미터 저장"
   ]
  },
  {
   "cell_type": "code",
   "execution_count": 14,
   "id": "indoor-conversation",
   "metadata": {},
   "outputs": [],
   "source": [
    "netname='./nets/mlp_weight.pkl'\n",
    "torch.save(model, netname, )"
   ]
  },
  {
   "cell_type": "code",
   "execution_count": null,
   "id": "fossil-intention",
   "metadata": {},
   "outputs": [],
   "source": []
  }
 ],
 "metadata": {
  "kernelspec": {
   "display_name": "conda_pytorch_p27",
   "language": "python",
   "name": "conda_pytorch_p27"
  },
  "language_info": {
   "codemirror_mode": {
    "name": "ipython",
    "version": 2
   },
   "file_extension": ".py",
   "mimetype": "text/x-python",
   "name": "python",
   "nbconvert_exporter": "python",
   "pygments_lexer": "ipython2",
   "version": "2.7.16"
  }
 },
 "nbformat": 4,
 "nbformat_minor": 5
}
